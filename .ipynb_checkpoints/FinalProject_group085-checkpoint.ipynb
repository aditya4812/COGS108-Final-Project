{
 "cells": [
  {
   "cell_type": "markdown",
   "metadata": {},
   "source": [
    "# COGS 108 - Final Project "
   ]
  },
  {
   "cell_type": "markdown",
   "metadata": {},
   "source": [
    "## Permissions"
   ]
  },
  {
   "cell_type": "markdown",
   "metadata": {},
   "source": [
    "Place an `X` in the appropriate bracket below to specify if you would like your group's project to be made available to the public. (Note that PIDs will be scraped from the public submission, but student names will be included.)\n",
    "\n",
    "* [ X ] YES - make available\n",
    "* [  ] NO - keep private"
   ]
  },
  {
   "cell_type": "markdown",
   "metadata": {},
   "source": [
    "# Overview"
   ]
  },
  {
   "cell_type": "markdown",
   "metadata": {},
   "source": [
    "*Fill in your overview here*"
   ]
  },
  {
   "cell_type": "markdown",
   "metadata": {},
   "source": [
    "# Names\n",
    "\n",
    "- Aditya Mehta\n",
    "- Sumanth Billa\n",
    "- Yukti Vijay\n",
    "- Chinmay Joshi"
   ]
  },
  {
   "cell_type": "markdown",
   "metadata": {},
   "source": [
    "# Group Members IDs\n",
    "\n",
    "- A16062688\n",
    "- A14988215\n",
    "- A16119609\n",
    "- A12732969"
   ]
  },
  {
   "cell_type": "markdown",
   "metadata": {},
   "source": [
    "# Research Question"
   ]
  },
  {
   "cell_type": "markdown",
   "metadata": {},
   "source": [
    "Is there a correlation between the price of wine and its corresponding WineEnthusiast score?"
   ]
  },
  {
   "cell_type": "markdown",
   "metadata": {},
   "source": [
    "## Background and Prior Work"
   ]
  },
  {
   "cell_type": "markdown",
   "metadata": {},
   "source": [
    "   One of our family members works for one of the largest wine manufacturers in the US, and we’ve all noticed over that there are different shelves at stores with stark differences in price. The higher shelves generally had the most expensive and “high quality wines” while the lower shelves included the cheaper and “lower quality wines”. Not being wine enthusiasts ourselves, we thought about why the price for some of the top shelf wines was much higher than the ones on the bottom shelves. Then we asked the question: does the higher priced wine actually tastes better than the cheaper wine?\n",
    "\t\n",
    "   While doing our background research we found a few articles and studies that have explored the question we posed. In a study done by the American Association of Wine Enthusiasts, the researchers posed the question “Does More Expensive Wine Taste Better?” and used a series of blind tastings to collect their observations. Using a sample pool of more than 6000 blind taste tests, they found that the correlation between price and overall rating is small and negative, which suggested that the individuals enjoyed the more expensive wines slightly less. Their results in the study indicated that the prices of wines and recommendations of wines by experts may not be a good guide for non-expert wine consumers.[1] Another study we looked at was a study done by a Caltech professor in which he had volunteers sampled several different wines that were labeled with increasing prices. However, the prices were labeled inaccurately and the taster’s brain was observed using an MRI. When tasting the same wine twice but with different price tags, the portion of the brain that encodes the experienced pleasantness of an experience reflected an increase in activity when tasting the wine with the higher price tag. This study goes to show that the perception of a wine’s quality affects the way in which the brain processes the experience of the tasting.[2]\n",
    "\n",
    "References (include links):\n",
    "- 1) https://moneydotcomvip.files.wordpress.com/2015/05/aawe_wp16.pdf\n",
    "- 2) https://www.caltech.edu/about/news/wine-study-shows-price-influences-perception-1374"
   ]
  },
  {
   "cell_type": "markdown",
   "metadata": {},
   "source": [
    "# Hypothesis\n"
   ]
  },
  {
   "cell_type": "markdown",
   "metadata": {},
   "source": [
    "We believe a more expensive wine does not always correlate to a high WineEnthusiast score. For example, an eighteen thousand dollar bottle of wine from a well-known winery may have a lower score than a twenty dollar bottle of wine from Vons."
   ]
  },
  {
   "cell_type": "markdown",
   "metadata": {},
   "source": [
    "# Dataset(s)"
   ]
  },
  {
   "cell_type": "markdown",
   "metadata": {},
   "source": [
    "*The dataset we obtained is from WineMag, known as Wine Enthusiast Magazine. This dataset is split up into two portions as the datasets are quite large. The first dataset contains around the first 150,000 wine reviews, while the second dataset contains the next 130,000 (approximately).*\n",
    "\n",
    "- Dataset Name: winemag-data_first150k.csv\n",
    "- Link to the dataset: https://raw.githubusercontent.com/COGS108/group085_wi20/master/wine-reviews/winemag-data_first150k.csv?token=AL3E7GXSTCCMXRTCQXTHUFS6PORBM\n",
    "- Number of observations: 150930 observations\n",
    "\n",
    "\n",
    "- Dataset Name: winemag-data-130k-v2.csv\n",
    "- Link to the dataset: https://raw.githubusercontent.com/COGS108/group085_wi20/master/wine-reviews/winemag-data-130k-v2.csv?token=AL3E7GQN6ESJMRSSGLS7UJK6PORDO\n",
    "- Number of observations: 129971 observations\n",
    "\n",
    "Each of these datasets contains the reviews made by people who sampled a bottle of wine and gave it a score out of 100. The dataset contains the following elements:\n",
    "\n",
    "| Column name | Column description|\n",
    "|------|------|\n",
    "|   country  | The country that the wine was made in.|\n",
    "|description| A description of the flavor and aromas of the wine.|\n",
    "|designation| The name of that particular wine bottle (given by winery).|\n",
    "|points| The score given to this wine by the reviewer.|\n",
    "|price| The price per bottle of the sampled wine.|\n",
    "|province|The province of a country that the wine was made in.|\n",
    "|region_1| The region within the province that the wine was made in.|\n",
    "|region_2| Another designation for the region of manufacturing.|\n",
    "|taster_name|The name of the person generating the review.|\n",
    "|taster_twitter_handle|The twitter handle of the person tasting and reviewing (if applicable).|\n",
    "|title|The official name of the wine including its manufacturing year.|\n",
    "|variety|The catagory of specialty wine that the wine falls under.|\n",
    "|winery|The name of the winery that manufactured this wine.|\n"
   ]
  },
  {
   "cell_type": "markdown",
   "metadata": {},
   "source": [
    "# Setup"
   ]
  },
  {
   "cell_type": "code",
   "execution_count": 1,
   "metadata": {},
   "outputs": [],
   "source": [
    "import pandas as pd\n",
    "import numpy as np\n",
    "import seaborn as sns\n",
    "from sklearn import metrics\n",
    "from sklearn.model_selection import train_test_split\n",
    "from matplotlib import pyplot\n",
    "import random\n",
    "import matplotlib.pyplot as plt\n",
    "%matplotlib inline\n"
   ]
  },
  {
   "cell_type": "markdown",
   "metadata": {},
   "source": [
    "# Data Cleaning"
   ]
  },
  {
   "cell_type": "markdown",
   "metadata": {},
   "source": [
    "### Load the data\n",
    "\n",
    "Load the data from the given URLs and assign the datasets to DataFrames using Pandas."
   ]
  },
  {
   "cell_type": "code",
   "execution_count": null,
   "metadata": {},
   "outputs": [],
   "source": [
    "url_1 = 'https://raw.githubusercontent.com/COGS108/group085_wi20/master/wine-reviews/winemag-data_first150k.csv?token=AL3E7GXSTCCMXRTCQXTHUFS6PORBM'\n",
    "url_2 = 'https://raw.githubusercontent.com/COGS108/group085_wi20/master/wine-reviews/winemag-data-130k-v2.csv?token=AL3E7GQN6ESJMRSSGLS7UJK6PORDO'\n",
    "df150k = pd.read_csv(url_1)\n",
    "dfV2 = pd.read_csv(url_2)"
   ]
  },
  {
   "cell_type": "markdown",
   "metadata": {},
   "source": [
    "### Merge Dataframes\n",
    "\n",
    "Drop the columns that are deemed unneccessary for the data analysis of the project and concatanate the two dataframes into one singular dataframe. Drop missing or null values from the dataframe."
   ]
  },
  {
   "cell_type": "code",
   "execution_count": null,
   "metadata": {},
   "outputs": [],
   "source": [
    "#merging 150k and V2\n",
    "df = df150k.append(dfV2, ignore_index=True, sort=False)\n",
    "\n",
    "#dropping unneeded colums\n",
    "df = df.drop(['taster_name', 'title', 'description', 'designation', 'region_1', 'region_2'], axis=1)\n",
    "df = df.drop(df.columns[0], axis=1)\n",
    "\n",
    "#drop rows that cointain missing values\n",
    "df = df.dropna(subset=['price', 'variety', 'country'])\n",
    "\n",
    "#convert twitter handle to boolean on whether data is from Twitter\n",
    "df['taster_twitter_handle'] = np.where(df['taster_twitter_handle'].isnull(), False, True)\n",
    "\n",
    "#rename poorly named columns\n",
    "df = df.rename({'points': 'score', 'taster_twitter_handle': 'from Twitter?'}, axis=1)\n",
    "\n",
    "df"
   ]
  },
  {
   "cell_type": "markdown",
   "metadata": {},
   "source": [
    "### Standardize the data"
   ]
  },
  {
   "cell_type": "markdown",
   "metadata": {},
   "source": [
    "First standardize the variety of the wines into 15 of the most prominent wine types. This allows for easier catagorization of the wine variety."
   ]
  },
  {
   "cell_type": "code",
   "execution_count": null,
   "metadata": {},
   "outputs": [],
   "source": [
    "#standardize variety column into 15 main wine types\n",
    "def standardize_variety(ch):\n",
    "    \n",
    "    ch = str(ch)\n",
    "    ch = ch.lower()\n",
    "    ch = ch.strip()\n",
    "   \n",
    "    if \"chardonnay\" in ch:\n",
    "        return 'Chardonnay'\n",
    "    elif 'riesling' in ch:\n",
    "        return 'Riesling'\n",
    "    elif 'pinot' in ch and 'grigio' in ch:\n",
    "        return 'Pinot Grigio'\n",
    "    elif 'sauvignon' in ch and 'blanc' in ch:\n",
    "        return 'Sauvignon Blanc'\n",
    "    elif 'sauvignon' in ch and 'cabernet' in ch:\n",
    "        return 'Cabernet Sauvignon'\n",
    "    elif 'pinot' in ch and 'noir' in ch:\n",
    "        return 'Pinot Noir'\n",
    "    elif 'syrah' in ch:\n",
    "        return 'Syrah'\n",
    "    elif 'zinfandel' in ch:\n",
    "        return 'Zinfandel'\n",
    "    elif 'malbec' in ch:\n",
    "        return 'Malbec'\n",
    "    elif 'merlot' in ch:\n",
    "        return 'Merlot'\n",
    "    elif 'red' in ch:\n",
    "        return 'Red Blend'\n",
    "    elif 'white' in ch:\n",
    "        return 'White Blend'\n",
    "    elif 'sparkling' in ch:\n",
    "        return 'Sparkling Blend'\n",
    "    elif 'rosé' in ch:\n",
    "        return 'Rosé'\n",
    "    else:\n",
    "        return 'Mixed Blend'\n",
    "\n",
    "df['variety'] = df['variety'].apply(standardize_variety)"
   ]
  },
  {
   "cell_type": "markdown",
   "metadata": {},
   "source": [
    "Next the score is standardized. It is evident from the reviews that the distribution of scores is generally high. The standardization of scores between 80 and 100 is done because there are no scores below 80, and no scores above 100."
   ]
  },
  {
   "cell_type": "code",
   "execution_count": null,
   "metadata": {
    "scrolled": true
   },
   "outputs": [],
   "source": [
    "#standardize score from 80-100 to floats of 1.0-10.0\n",
    "def standardize_score(ch):\n",
    "  return 1+(((ch-80)/20)*9)\n",
    "\n",
    "df['scaled_score'] = df['score'].apply(standardize_score)\n",
    "df"
   ]
  },
  {
   "cell_type": "markdown",
   "metadata": {},
   "source": [
    "#### Plot the raw cleaned data\n",
    "\n",
    "This gives a quick glance at how price and score from the review compare."
   ]
  },
  {
   "cell_type": "code",
   "execution_count": null,
   "metadata": {},
   "outputs": [],
   "source": [
    "graph1 = df.plot.scatter(x='price', y='scaled_score', c='DarkBlue')"
   ]
  },
  {
   "cell_type": "markdown",
   "metadata": {},
   "source": [
    "# Data Analysis & Results"
   ]
  },
  {
   "cell_type": "markdown",
   "metadata": {},
   "source": [
    "Include cells that describe the steps in your data analysis."
   ]
  },
  {
   "cell_type": "markdown",
   "metadata": {},
   "source": [
    "## Visualizing the data"
   ]
  },
  {
   "cell_type": "markdown",
   "metadata": {},
   "source": [
    "Compile data and prepare for visualization"
   ]
  },
  {
   "cell_type": "code",
   "execution_count": null,
   "metadata": {},
   "outputs": [],
   "source": [
    "countries = df.country.unique()\n",
    "countries_mean_scores = df.groupby('country')['scaled_score'].mean()\n",
    "countries_mean_price = df.groupby('country')['price'].mean()\n",
    "countries_data = pd.concat([countries_mean_scores, countries_mean_price], axis = 1, join='inner')\n",
    "countries_data = countries_data.reset_index()"
   ]
  },
  {
   "cell_type": "markdown",
   "metadata": {},
   "source": [
    "#### Average Scaled Score By Country"
   ]
  },
  {
   "cell_type": "code",
   "execution_count": null,
   "metadata": {},
   "outputs": [],
   "source": [
    "sns.set(style=\"whitegrid\")\n",
    "plt.figure(figsize=(25,20))\n",
    "countries_data = countries_data.sort_values(by = 'scaled_score', ascending=False)\n",
    "sns.barplot(x=\"scaled_score\", y='country', data=countries_data, ci=\"sd\")"
   ]
  },
  {
   "cell_type": "markdown",
   "metadata": {},
   "source": [
    "#### Average Price per Bottle by Country"
   ]
  },
  {
   "cell_type": "code",
   "execution_count": null,
   "metadata": {},
   "outputs": [],
   "source": [
    "sns.set(style=\"whitegrid\")\n",
    "plt.figure(figsize=(25,20))\n",
    "countries_data = countries_data.sort_values(by = 'price', ascending=False)\n",
    "sns.barplot(x=\"price\", y='country', data=countries_data, ci=\"sd\")"
   ]
  },
  {
   "cell_type": "markdown",
   "metadata": {},
   "source": [
    "#### Price per one review unit (from scaled score) by Country"
   ]
  },
  {
   "cell_type": "code",
   "execution_count": null,
   "metadata": {},
   "outputs": [],
   "source": [
    "countries_data['price_rating_ratio'] = countries_data.price / countries_data.scaled_score\n",
    "sns.set(style=\"whitegrid\")\n",
    "plt.figure(figsize=(25,20))\n",
    "countries_data = countries_data.sort_values(by = 'price_rating_ratio', ascending=False)\n",
    "sns.barplot(x=\"price_rating_ratio\", y='country', data=countries_data, ci=\"sd\")"
   ]
  },
  {
   "cell_type": "markdown",
   "metadata": {},
   "source": [
    "#### Price by Different Varieties"
   ]
  },
  {
   "cell_type": "code",
   "execution_count": null,
   "metadata": {},
   "outputs": [],
   "source": [
    "plt.figure(figsize=(25,10))\n",
    "variety_mean = df.groupby('variety')['price'].mean().sort_values(ascending=True)\n",
    "variety_mean = variety_mean.reset_index()\n",
    "sns.barplot(x=\"variety\", y=\"price\", data=variety_mean)  # RUN PLOT "
   ]
  },
  {
   "cell_type": "markdown",
   "metadata": {},
   "source": [
    "### Discerning Accuracy of Hypothesis"
   ]
  },
  {
   "cell_type": "markdown",
   "metadata": {},
   "source": [
    "In this section, we will attempt to accurately plot the relationship between wine price and WineEnthusiast score. To do this, we will have to categorize prices into roughly 10 categories, and then create boxplots of each price range."
   ]
  },
  {
   "cell_type": "markdown",
   "metadata": {},
   "source": [
    "#### More Data Cleaning"
   ]
  },
  {
   "cell_type": "code",
   "execution_count": null,
   "metadata": {},
   "outputs": [],
   "source": [
    "prices = df.drop(['variety', 'country', 'score', 'winery', 'from Twitter?', 'province'], axis = 1)\n",
    "prices"
   ]
  },
  {
   "cell_type": "markdown",
   "metadata": {},
   "source": [
    "#### Categorize the Prices"
   ]
  },
  {
   "cell_type": "code",
   "execution_count": null,
   "metadata": {},
   "outputs": [],
   "source": [
    "over100 = prices.loc[prices['price'] >= 100]\n",
    "under100 = prices.loc[prices['price'] < 100]\n",
    "under80 = prices.loc[prices['price'] < 80]\n",
    "under70 = prices.loc[prices['price'] < 70]\n",
    "under60 = prices.loc[prices['price'] < 60]\n",
    "under50 = prices.loc[prices['price'] < 50]\n",
    "under40 = prices.loc[prices['price'] < 40]\n",
    "under30 = prices.loc[prices['price'] < 30]\n",
    "under20 = prices.loc[prices['price'] < 20]\n",
    "\n",
    "\n",
    "\n",
    "p80to100 = under100.loc[under100['price'] >= 80]\n",
    "p70to80 = under80.loc[under80['price'] >= 70]\n",
    "p60to70 = under70.loc[under70['price'] >= 60]\n",
    "p50to60 = under60.loc[under60['price'] >= 50]\n",
    "p40to50 = under50.loc[under50['price'] >= 40]\n",
    "p30to40 = under40.loc[under40['price'] >= 30]\n",
    "p20to30 = under30.loc[under30['price'] >= 20]\n",
    "p10to20 = under20.loc[under20['price'] >= 10]\n",
    "p0to10 = prices.loc[prices['price'] < 10]\n",
    "\n",
    "over100 = over100.assign(price_range='>=100')\n",
    "p80to100 = p80to100.assign(price_range='[80,100)')\n",
    "p70to80 = p70to80.assign(price_range='[70,80)')\n",
    "p60to70 = p60to70.assign(price_range='[60,70)')\n",
    "p50to60 = p50to60.assign(price_range='[50,60)')\n",
    "p40to50 = p40to50.assign(price_range='[40,50)')\n",
    "p30to40 = p30to40.assign(price_range='[30,40)')\n",
    "p20to30 = p20to30.assign(price_range='[20,30)')\n",
    "p10to20 = p10to20.assign(price_range='[10,20)')\n",
    "p0to10 = p0to10.assign(price_range='<10')\n",
    "\n",
    "ranges = [p0to10, p10to20, p20to30, p30to40, p40to50, p50to60, p60to70, p70to80, p80to100, over100]\n",
    "prices_with_ranges = pd.concat(ranges)\n",
    "prices_with_ranges"
   ]
  },
  {
   "cell_type": "markdown",
   "metadata": {},
   "source": [
    "#### Plot the Trend: WineEnthusiast Scaled Score by Price"
   ]
  },
  {
   "cell_type": "code",
   "execution_count": null,
   "metadata": {},
   "outputs": [],
   "source": [
    "sns.set(style=\"whitegrid\")\n",
    "plt.figure(figsize=(15,10))\n",
    "ax = sns.boxplot(x=\"price_range\", y=\"scaled_score\", data=prices_with_ranges)"
   ]
  },
  {
   "cell_type": "markdown",
   "metadata": {},
   "source": [
    "## Machine Learning Model"
   ]
  },
  {
   "cell_type": "code",
   "execution_count": null,
   "metadata": {},
   "outputs": [],
   "source": [
    "#yukti"
   ]
  },
  {
   "cell_type": "code",
   "execution_count": null,
   "metadata": {},
   "outputs": [],
   "source": [
    "dataset = df[['price','variety','scaled_score']]\n",
    "dataset"
   ]
  },
  {
   "cell_type": "code",
   "execution_count": null,
   "metadata": {},
   "outputs": [],
   "source": [
    "X = dataset.iloc[:, :-1].values\n",
    "y = dataset.iloc[:, 2].values"
   ]
  },
  {
   "cell_type": "code",
   "execution_count": null,
   "metadata": {},
   "outputs": [],
   "source": [
    "from sklearn.preprocessing import LabelEncoder, OneHotEncoder\n",
    "labelencoder = LabelEncoder()\n",
    "X[:, 1] = labelencoder.fit_transform(X[:, 1])\n",
    "onehotencoder = OneHotEncoder(categories='auto')\n",
    "X = onehotencoder.fit_transform(X).toarray()"
   ]
  },
  {
   "cell_type": "code",
   "execution_count": null,
   "metadata": {},
   "outputs": [],
   "source": [
    "X = X[:, 1:]"
   ]
  },
  {
   "cell_type": "code",
   "execution_count": null,
   "metadata": {},
   "outputs": [],
   "source": [
    "from sklearn.model_selection import train_test_split\n",
    "X_train, X_test, y_train, y_test = train_test_split(X, y, test_size = 0.2, random_state = 0)"
   ]
  },
  {
   "cell_type": "code",
   "execution_count": null,
   "metadata": {},
   "outputs": [],
   "source": [
    "from sklearn.linear_model import LinearRegression\n",
    "regressor = LinearRegression()\n",
    "regressor.fit(X_train, y_train)"
   ]
  },
  {
   "cell_type": "code",
   "execution_count": null,
   "metadata": {},
   "outputs": [],
   "source": [
    "y_pred = regressor.predict(X_test)"
   ]
  },
  {
   "cell_type": "code",
   "execution_count": null,
   "metadata": {},
   "outputs": [],
   "source": [
    "regressor.score(X,y)"
   ]
  },
  {
   "cell_type": "code",
   "execution_count": null,
   "metadata": {},
   "outputs": [],
   "source": [
    "test_set_rmse = (np.sqrt(mean_squared_error(y_test, pred)))\n",
    "\n",
    "test_set_r2 = r2_score(y_test, pred)"
   ]
  },
  {
   "cell_type": "code",
   "execution_count": null,
   "metadata": {},
   "outputs": [],
   "source": [
    "print(test_set_rmse)\n",
    "print(test_set_r2)"
   ]
  },
  {
   "cell_type": "markdown",
   "metadata": {},
   "source": [
    "# Ethics & Privacy"
   ]
  },
  {
   "cell_type": "markdown",
   "metadata": {},
   "source": [
    "*Fill in your ethics & privacy discussion here*"
   ]
  },
  {
   "cell_type": "markdown",
   "metadata": {},
   "source": [
    "# Conclusion & Discussion"
   ]
  },
  {
   "cell_type": "markdown",
   "metadata": {},
   "source": [
    "*Fill in your discussion information here*"
   ]
  },
  {
   "cell_type": "markdown",
   "metadata": {},
   "source": [
    "# Team Contributions"
   ]
  },
  {
   "cell_type": "markdown",
   "metadata": {},
   "source": [
    "*Specify who in your group worked on which parts of the project.*"
   ]
  }
 ],
 "metadata": {
  "kernelspec": {
   "display_name": "Python 3",
   "language": "python",
   "name": "python3"
  },
  "language_info": {
   "codemirror_mode": {
    "name": "ipython",
    "version": 3
   },
   "file_extension": ".py",
   "mimetype": "text/x-python",
   "name": "python",
   "nbconvert_exporter": "python",
   "pygments_lexer": "ipython3",
   "version": "3.7.4"
  }
 },
 "nbformat": 4,
 "nbformat_minor": 2
}
