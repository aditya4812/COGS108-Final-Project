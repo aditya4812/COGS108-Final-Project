{
 "cells": [
  {
   "cell_type": "markdown",
   "metadata": {},
   "source": [
    "# COGS 108 - Final Project Proposal"
   ]
  },
  {
   "cell_type": "markdown",
   "metadata": {},
   "source": [
    "# Names\n",
    "\n",
    "- Aditya Mehta\n",
    "- Sumanth Billa\n",
    "- Yukti Vijay\n",
    "- Chinmay Joshi"
   ]
  },
  {
   "cell_type": "markdown",
   "metadata": {},
   "source": [
    "# Group Members IDs\n",
    "\n",
    "- A16062688\n",
    "- A14988215\n",
    "- A16119609\n",
    "- A12732969"
   ]
  },
  {
   "cell_type": "markdown",
   "metadata": {},
   "source": [
    "# Research Question"
   ]
  },
  {
   "cell_type": "markdown",
   "metadata": {},
   "source": [
    "Is there a correlation between the price of wine and its corresponding WineEnthusiast score?"
   ]
  },
  {
   "cell_type": "markdown",
   "metadata": {},
   "source": [
    "## Background and Prior Work"
   ]
  },
  {
   "cell_type": "markdown",
   "metadata": {},
   "source": [
    "One of our family members works for one of the largest wine manufacturers in the US, and we’ve all noticed over that there are different shelves at stores with stark differences in price. The higher shelves generally had the most expensive and “high quality wines” while the lower shelves included the cheaper and “lower quality wines”. Not being wine enthusiasts ourselves, we thought about why the price for some of the top shelf wines was much higher than the ones on the bottom shelves. Then we asked the question: does the higher priced wine actually tastes better than the cheaper wine?\n",
    "\t\n",
    "   While doing our background research we found a few articles and studies that have explored the question we posed. In a study done by the American Association of Wine Enthusiasts, the researchers posed the question “Does More Expensive Wine Taste Better?” and used a series of blind tastings to collect their observations. Using a sample pool of more than 6000 blind taste tests, they found that the correlation between price and overall rating is small and negative, which suggested that the individuals enjoyed the more expensive wines slightly less. Their results in the study indicated that the prices of wines and recommendations of wines by experts may not be a good guide for non-expert wine consumers.[1] Another study we looked at was a study done by a Caltech professor in which he had volunteers sampled several different wines that were labeled with increasing prices. However, the prices were labeled inaccurately and the taster’s brain was observed using an MRI. When tasting the same wine twice but with different price tags, the portion of the brain that encodes the experienced pleasantness of an experience reflected an increase in activity when tasting the wine with the higher price tag. This study goes to show that the perception of a wine’s quality affects the way in which the brain processes the experience of the tasting.[2]\n",
    "\n",
    "References (include links):\n",
    "- 1) https://moneydotcomvip.files.wordpress.com/2015/05/aawe_wp16.pdf\n",
    "- 2) https://www.caltech.edu/about/news/wine-study-shows-price-influences-perception-1374"
   ]
  },
  {
   "cell_type": "markdown",
   "metadata": {},
   "source": [
    "# Hypothesis\n"
   ]
  },
  {
   "cell_type": "markdown",
   "metadata": {},
   "source": [
    "We believe a more expensive wine does not always correlate to a high WineEnthusiast score. For example, an eighteen thousand dollar bottle of wine from a well-known winery may have a lower score than a twenty dollar bottle of wine from Vons."
   ]
  },
  {
   "cell_type": "markdown",
   "metadata": {},
   "source": [
    "# Data"
   ]
  },
  {
   "cell_type": "markdown",
   "metadata": {},
   "source": [
    "Variables:\n",
    "    \n",
    "    WineEnthusiast Score, Price\n",
    "Number of Observations:\n",
    "    \n",
    "    160,000 reviews\n",
    "Who would this data be collected from?\n",
    "    \n",
    "    All ages 21+\n",
    "What data would be collected?\n",
    "    \n",
    "    The score that people give certain wines and the price that each wine is listed at.\n",
    "How would this data be collected?\n",
    "    \n",
    "    An experimental group of 100,000 giving their score of each wine that we have listed.\n",
    "How would this data be stored/organized?\n",
    "    \n",
    "    The data would be stored/organized into a .CSV file.\n"
   ]
  },
  {
   "cell_type": "markdown",
   "metadata": {},
   "source": [
    "# Ethics & Privacy"
   ]
  },
  {
   "cell_type": "markdown",
   "metadata": {},
   "source": [
    "The dataset we will be using to conduct our research was acquired from Kaggle, a public database of information and statistics, so we believe that we do have permission to use this data. There are definitely biases present in our dataset, specifically involving the financial status and psychological biases of the people being surveyed in some of the data. We don’t believe that this will be problematic in terms of making equitable analysis because these biases operate within the scope of the research question. For example, even though the dataset is mostly composed of financially stable adults over the age of 21, this doesn’t affect the accuracy of the answer to the question “Is there a correlation between the price of wine and its corresponding WineEnthusiast score?” This is because the question applies almost exclusively to the group of people being surveyed, which means we will not be unethically leaving out a portion of the population when considering the data’s implications. Additionally, there is the possibility of a naturally created psychological bias favoring wines that are expensive. Although this bias may skew the accuracy of our dataset, we believe it is a valuable lesson in analyzing the way the human brain changes its opinions based on external factors. We believe this bias isn’t problematic either, as diving deeper and learning more about its possible presence is valuable for research in this topic.\n"
   ]
  },
  {
   "cell_type": "markdown",
   "metadata": {},
   "source": [
    "# Team Expectations "
   ]
  },
  {
   "cell_type": "markdown",
   "metadata": {},
   "source": [
    "* Everyone is respectful of each other’s time, backgrounds, preferences and work habits. \n",
    "* Everyone does their designated work in a timely manner. \n",
    "* Everyone tries their best to meet the objectives outlined in the project timeline proposal."
   ]
  },
  {
   "cell_type": "markdown",
   "metadata": {},
   "source": [
    "# Project Timeline Proposal"
   ]
  },
  {
   "cell_type": "markdown",
   "metadata": {},
   "source": [
    "| Meeting Date  | Meeting Time| Completed Before Meeting  | Discuss at Meeting |\n",
    "|---|---|---|---|\n",
    "| 1/31  |  6 PM | Thought about COGS 108 expectations; brainstormed topics/questions  | Determine best form of communication; Discuss and decide on final project topic; discuss hypothesis; begin background research. Complete group proposal. Background and prior work are done by Chinmany. Hypothesis and Data are done by Sumanth. Ethics and Privacy are done by Aditya. Team expectations and Project Timeline proposal is done by Yukti | \n",
    "| 2/9  |  6 PM |  Do background research on topic and get familiar with the wine industry and the data that surrounds it | Discuss research found. Ideally each person brings a new study to the table and presents a new aspect to the research question. | \n",
    "| 2/15  | 6 PM  | Search for datasets/distribute workload/brainstorm how data will apply to research question  | Discuss Wrangling and possible analytical approaches; Assign group members to lead each specific part, and distribute workload accordingly.   |\n",
    "| 2/19  | 6 PM  | Find and look for data to import & Wrangle (Yukti/Aditya); EDA can be done by (Sumanth/Chinmay) | Look over and review/Edit wrangling/EDA; Discuss Analysis Plan and assign leaders/work distribution for this portion of the project.    |\n",
    "| 3/5  | 6 PM  | Finalize wrangling/EDA; Begin Analysis (Sumanth/Chinmay) | Final checks. Looking over project holistically and making sure everything is at par. Discuss/edit Analysis; Complete project check-in |\n",
    "| 3/10  | 6 PM  | Complete analysis; Draft results/conclusion/discussion (Yukti/Aditya)| Discuss/edit full project. Finish anything missing and add finishing touches. |\n",
    "| 3/19  | Before 11:59 PM  | N/A | Turn in Final Project & Group Project Surveys |"
   ]
  },
  {
   "cell_type": "code",
   "execution_count": null,
   "metadata": {},
   "outputs": [],
   "source": []
  }
 ],
 "metadata": {
  "kernelspec": {
   "display_name": "Python 3",
   "language": "python",
   "name": "python3"
  },
  "language_info": {
   "codemirror_mode": {
    "name": "ipython",
    "version": 3
   },
   "file_extension": ".py",
   "mimetype": "text/x-python",
   "name": "python",
   "nbconvert_exporter": "python",
   "pygments_lexer": "ipython3",
   "version": "3.7.4"
  }
 },
 "nbformat": 4,
 "nbformat_minor": 2
}
