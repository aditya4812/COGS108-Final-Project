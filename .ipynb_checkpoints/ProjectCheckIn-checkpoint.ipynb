{
 "cells": [
  {
   "cell_type": "markdown",
   "metadata": {},
   "source": [
    "# COGS 108 Final Project Check-In"
   ]
  },
  {
   "cell_type": "markdown",
   "metadata": {},
   "source": [
    "# Names\n",
    "- Yukti Vijay\n",
    "- Sumanth Billa\n",
    "- Aditya Mehta\n",
    "- Chinmay Joshi"
   ]
  },
  {
   "cell_type": "markdown",
   "metadata": {},
   "source": [
    "# Group Members IDs\n",
    "- A16119609\n",
    "- A14988215\n",
    "- A16062688\n",
    "- A12732969"
   ]
  },
  {
   "cell_type": "markdown",
   "metadata": {},
   "source": [
    "# Accomplishments"
   ]
  },
  {
   "cell_type": "markdown",
   "metadata": {},
   "source": [
    "Up till now, we have mostly followed the timeline that our group set for ourselves in our proposal. We have started to work with the dataset and clean some parts of it using the skills and pandas functions we learn in class, and have distributed the workload accordingly. We have all done the appropriate background research and presented it to each other so all team members have a well rounded background and understanding of the wine industry and our dataset. We have found our research question and have worked out a tentative plan to find the information accordingly. "
   ]
  },
  {
   "cell_type": "markdown",
   "metadata": {},
   "source": [
    "# Going Well"
   ]
  },
  {
   "cell_type": "markdown",
   "metadata": {},
   "source": [
    "So far, communication has been a very strong suit with our group. As far as group meetings and correspondence, everyone has been very prompt and responsive. Another thing going well in our group is the workload distribution. Everyone has sort of found a niche that they work well in, allowing for the group as a whole move forward with the project."
   ]
  },
  {
   "cell_type": "markdown",
   "metadata": {},
   "source": [
    "# Struggles"
   ]
  },
  {
   "cell_type": "markdown",
   "metadata": {},
   "source": [
    "Although everyone is responsive, it is often hard to find time between everyone's busy schedules to find a good time to meet in person. Thankfully, it does not hinder us much because we can video chat instead."
   ]
  },
  {
   "cell_type": "markdown",
   "metadata": {},
   "source": [
    "# Plan Forward"
   ]
  },
  {
   "cell_type": "markdown",
   "metadata": {},
   "source": [
    "Our plan moving forward is to keep working as we have, and perhaps pick up the pace on our data wrangling because we are slightly a day or two behind schedule on that. We also hope to plan better for group meetings, making sure that everyone is available on that given date and time. As far as our timeline, we hope to wrap up the data wrangling in the next week or two, and finalize some of the visualizations we want to include. After that, we can start our analysis and finalize the project before the deadline."
   ]
  }
 ],
 "metadata": {
  "kernelspec": {
   "display_name": "Python 3",
   "language": "python",
   "name": "python3"
  },
  "language_info": {
   "codemirror_mode": {
    "name": "ipython",
    "version": 3
   },
   "file_extension": ".py",
   "mimetype": "text/x-python",
   "name": "python",
   "nbconvert_exporter": "python",
   "pygments_lexer": "ipython3",
   "version": "3.7.4"
  }
 },
 "nbformat": 4,
 "nbformat_minor": 2
}
